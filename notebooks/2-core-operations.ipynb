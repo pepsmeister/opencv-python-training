{
 "cells": [
  {
   "cell_type": "code",
   "execution_count": 1,
   "metadata": {},
   "outputs": [],
   "source": [
    "import cv2\n",
    "import numpy as np\n",
    "\n",
    "image = cv2.imread('../assets/bernie.jpg', cv2.IMREAD_COLOR)\n",
    "gray = cv2.cvtColor(image, cv2.COLOR_BGR2GRAY)"
   ]
  },
  {
   "cell_type": "code",
   "execution_count": 2,
   "metadata": {},
   "outputs": [],
   "source": [
    "def show_image(image):\n",
    "    cv2.namedWindow('image', cv2.WINDOW_NORMAL)\n",
    "    cv2.imshow('image', image)\n",
    "    cv2.waitKey(0)\n",
    "    cv2.destroyAllWindows()"
   ]
  },
  {
   "cell_type": "code",
   "execution_count": 4,
   "metadata": {},
   "outputs": [],
   "source": [
    "grayscale_bernie = cv2.cvtColor(image, cv2.COLOR_BGR2GRAY)"
   ]
  },
  {
   "cell_type": "code",
   "execution_count": null,
   "metadata": {},
   "outputs": [],
   "source": [
    "grayscale_bernie = cv2.cvtColor(image, cv2.IMREAD_GRAYSCALE)"
   ]
  },
  {
   "cell_type": "code",
   "execution_count": null,
   "metadata": {},
   "outputs": [],
   "source": [
    "show_image(grayscale_bernie)"
   ]
  },
  {
   "cell_type": "code",
   "execution_count": 18,
   "metadata": {},
   "outputs": [],
   "source": [
    "image = image[302: (302+322), 261:(261+339)]\n",
    "image[:, :, 0] = 123"
   ]
  },
  {
   "cell_type": "code",
   "execution_count": 19,
   "metadata": {},
   "outputs": [],
   "source": [
    "def show_image(image):\n",
    "    cv2.imshow('image', image)\n",
    "    cv2.waitKey(0)\n",
    "    cv2.destroyAllWindows()"
   ]
  },
  {
   "cell_type": "code",
   "execution_count": null,
   "metadata": {},
   "outputs": [],
   "source": [
    "show_image(image)"
   ]
  },
  {
   "cell_type": "code",
   "execution_count": 3,
   "metadata": {},
   "outputs": [],
   "source": [
    "from_center = False\n",
    "region = cv2.selectROI(image, from_center)\n",
    "cv2.waitKey(0)\n",
    "cv2.destroyAllWindows()"
   ]
  },
  {
   "cell_type": "code",
   "execution_count": 4,
   "metadata": {},
   "outputs": [
    {
     "name": "stdout",
     "output_type": "stream",
     "text": [
      "(79, 32, 783, 711)\n"
     ]
    }
   ],
   "source": [
    "print(region)"
   ]
  },
  {
   "cell_type": "code",
   "execution_count": 1,
   "metadata": {},
   "outputs": [],
   "source": [
    "import cv2\n",
    "import numpy as np\n",
    "\n",
    "bernie = cv2.imread('../assets/bernie.jpg')\n",
    "howie = cv2.imread('../assets/howie.png')\n",
    "big_bang = cv2.imread('../assets/big-bang.jpg')\n",
    "\n",
    "def show_image(image):\n",
    "    cv2.namedWindow('image', cv2.WINDOW_NORMAL)\n",
    "    cv2.imshow('image', image)\n",
    "    cv2.waitKey(0)\n",
    "    cv2.destroyAllWindows()"
   ]
  },
  {
   "cell_type": "code",
   "execution_count": 2,
   "metadata": {},
   "outputs": [],
   "source": [
    "sum_image = cv2.add(bernie, howie)"
   ]
  },
  {
   "cell_type": "code",
   "execution_count": null,
   "metadata": {},
   "outputs": [],
   "source": [
    "show_image(sum_image)"
   ]
  },
  {
   "cell_type": "code",
   "execution_count": null,
   "metadata": {},
   "outputs": [],
   "source": [
    "blended = cv2.addWeighted(bernie, 0.8, howie, 0.8, 0)"
   ]
  },
  {
   "cell_type": "code",
   "execution_count": null,
   "metadata": {},
   "outputs": [],
   "source": [
    "show_image(blended)"
   ]
  },
  {
   "cell_type": "code",
   "execution_count": null,
   "metadata": {},
   "outputs": [],
   "source": [
    "big_bang = cv2.resize(big_bang, (int(big_bang.shape[1] * 0.25), int(big_bang.shape[0] * 0.25)))\n",
    "print(big_bang.shape)"
   ]
  },
  {
   "cell_type": "code",
   "execution_count": null,
   "metadata": {},
   "outputs": [],
   "source": [
    "rows, cols, channels = big_bang.shape"
   ]
  },
  {
   "cell_type": "code",
   "execution_count": null,
   "metadata": {},
   "outputs": [],
   "source": [
    "#put the logo to top left corner\n",
    "roi = bernie[0: rows, 0: cols]\n",
    "\n",
    "cv2.imshow('roi', roi)\n",
    "cv2.waitKey(0)\n",
    "cv2.detroyAllWindows()"
   ]
  },
  {
   "cell_type": "code",
   "execution_count": null,
   "metadata": {},
   "outputs": [],
   "source": [
    "# create a mask of the logo\n",
    "\n",
    "#convert the image to grayscale for thresholding\n",
    "bigbang_gray = cv2.cvtColor(big_bang, cv2.COLOR_BGR2GRAY)\n",
    "\n",
    "#first argument is the source image\n",
    "#second argument is the threshold value\n",
    "#third argument is the value to use if thresho;d os reached\n",
    "#cv2.THRESH_BINARY_INV reverses the condition of the third argument\n",
    "ret, mask = cv2.threshold(bigbang_gray, 220, 255, cv2.THRESH_BINARY_INV)\n",
    "\n",
    "cv2.imshow('mask', mask)\n",
    "cv2.waitKey(0)\n",
    "cv2.detroyAllWindows()"
   ]
  },
  {
   "cell_type": "code",
   "execution_count": null,
   "metadata": {},
   "outputs": [],
   "source": [
    "#create the inverse mask\n",
    "mask_inv = cv2.bitwise_not(mask)\n",
    "\n",
    "cv2.imshow('mask_inv', mask_inv)\n",
    "cv2.waitKey(0)\n",
    "cv2.detroyAllWindows()"
   ]
  },
  {
   "cell_type": "code",
   "execution_count": null,
   "metadata": {},
   "outputs": [],
   "source": [
    "#black out the area of the logo in ROI\n",
    "bernie_bg = cv2.bitwise_and(roi, roi, mask=mask_inv)\n",
    "\n",
    "cv2.imshow('bernie_bg', bernie_bg)\n",
    "cv2.waitKey(0)\n",
    "cv2.detroyAllWindows()"
   ]
  },
  {
   "cell_type": "code",
   "execution_count": null,
   "metadata": {},
   "outputs": [],
   "source": [
    "bigbang_rg = cv2.bitwise_and(big_bang, big_bang, mask=mask)\n",
    "cv2.imshow('bigbang_rg', bigbang_rg)\n",
    "cv2.waitKey(0)\n",
    "cv2.detroyAllWindows()"
   ]
  },
  {
   "cell_type": "code",
   "execution_count": null,
   "metadata": {},
   "outputs": [],
   "source": [
    "dst = cv2.add(bernie_bg, bigbang_rg)\n",
    "bernie[0: rows, 0:cols] = dst\n",
    "\n",
    "cv2.namedWindow('bernie_bigbang', cv2.WINDOW_NORMAL)\n",
    "cv2.imshow('bernie_bigbang', bernie)\n",
    "cv2.waitKey(0)\n",
    "cv2.detroyAllWindows()"
   ]
  },
  {
   "cell_type": "code",
   "execution_count": null,
   "metadata": {},
   "outputs": [],
   "source": [
    "import cv2\n",
    "import numpy as np\n",
    "\n",
    "peps = cv2.imread('../assets/peps.jpg')\n",
    "howie = cv2.imread('../assets/howie.png')\n",
    "big_bang = cv2.imread('../assets/accenture.png')\n",
    "\n",
    "def show_image(image):\n",
    "    cv2.namedWindow('image', cv2.WINDOW_NORMAL)\n",
    "    cv2.imshow('image', image)\n",
    "    cv2.waitKey(0)\n",
    "    cv2.destroyAllWindows()\n",
    "    \n",
    "big_bang = cv2.resize(big_bang, (int(big_bang.shape[1] * 0.40), int(big_bang.shape[0] * 0.40)))\n",
    "rows, cols, channels = big_bang.shape\n",
    "roi = peps[0: rows, 0: cols]\n",
    "bigbang_gray = cv2.cvtColor(big_bang, cv2.COLOR_BGR2GRAY)\n",
    "ret, mask = cv2.threshold(bigbang_gray, 220, 255, cv2.THRESH_BINARY_INV)\n",
    "mask_inv = cv2.bitwise_not(mask)\n",
    "peps_bg = cv2.bitwise_and(roi, roi, mask=mask_inv)\n",
    "bigbang_rg = cv2.bitwise_and(big_bang, big_bang, mask=mask)\n",
    "dst = cv2.add(peps_bg, bigbang_rg)\n",
    "peps[0: rows, 0:cols] = dst\n",
    "cv2.namedWindow('peps_bigbang', cv2.WINDOW_NORMAL)\n",
    "cv2.imshow('peps_bigbang', peps)\n",
    "cv2.waitKey(0)\n",
    "cv2.detroyAllWindows()\n"
   ]
  },
  {
   "cell_type": "code",
   "execution_count": null,
   "metadata": {},
   "outputs": [],
   "source": [
    "import cv2\n",
    "import numpy as np\n",
    "\n",
    "peps = cv2.imread('../assets/peps.jpg')\n",
    "howie = cv2.imread('../assets/howie.png')\n",
    "accenture = cv2.imread('../assets/accenture.png')\n",
    "\n",
    "def show_image(image):\n",
    "    cv2.namedWindow('image', cv2.WINDOW_NORMAL)\n",
    "    cv2.imshow('image', image)\n",
    "    cv2.waitKey(0)\n",
    "    cv2.destroyAllWindows()\n",
    "    \n",
    "accenture = cv2.resize(accenture, (int(accenture.shape[1] * 0.40), int(accenture.shape[0] * 0.40)))\n",
    "rows, cols, channels = accenture.shape\n",
    "roi = peps[0: rows, 0: cols]\n",
    "accenture_gray = cv2.cvtColor(accenture, cv2.COLOR_BGR2GRAY)\n",
    "ret, mask = cv2.threshold(accenture_gray, 220, 255, cv2.THRESH_BINARY_INV)\n",
    "mask_inv = cv2.bitwise_not(mask)\n",
    "peps_bg = cv2.bitwise_and(roi, roi, mask=mask_inv)\n",
    "accenture_rg = cv2.bitwise_and(accenture, accenture, mask=mask)\n",
    "dst = cv2.add(peps_bg, accenture_rg)\n",
    "peps[0: rows, 0:cols] = dst\n",
    "cv2.namedWindow('peps_bigbang', cv2.WINDOW_NORMAL)\n",
    "cv2.imshow('peps_bigbang', peps)\n",
    "cv2.waitKey(0)\n",
    "cv2.detroyAllWindows()\n"
   ]
  },
  {
   "cell_type": "code",
   "execution_count": 1,
   "metadata": {},
   "outputs": [
    {
     "ename": "KeyboardInterrupt",
     "evalue": "",
     "output_type": "error",
     "traceback": [
      "\u001b[0;31m---------------------------------------------------------------------------\u001b[0m",
      "\u001b[0;31mKeyboardInterrupt\u001b[0m                         Traceback (most recent call last)",
      "\u001b[0;32m<ipython-input-1-131b5c0c57a5>\u001b[0m in \u001b[0;36m<module>\u001b[0;34m()\u001b[0m\n\u001b[1;32m     21\u001b[0m     \u001b[0mcv2\u001b[0m\u001b[0;34m.\u001b[0m\u001b[0mnamedWindow\u001b[0m\u001b[0;34m(\u001b[0m\u001b[0;34m'peps_bigbang'\u001b[0m\u001b[0;34m,\u001b[0m \u001b[0mcv2\u001b[0m\u001b[0;34m.\u001b[0m\u001b[0mWINDOW_NORMAL\u001b[0m\u001b[0;34m)\u001b[0m\u001b[0;34m\u001b[0m\u001b[0m\n\u001b[1;32m     22\u001b[0m     \u001b[0mcv2\u001b[0m\u001b[0;34m.\u001b[0m\u001b[0mimshow\u001b[0m\u001b[0;34m(\u001b[0m\u001b[0;34m'webcam'\u001b[0m\u001b[0;34m,\u001b[0m \u001b[0mframe\u001b[0m\u001b[0;34m)\u001b[0m\u001b[0;34m\u001b[0m\u001b[0m\n\u001b[0;32m---> 23\u001b[0;31m     \u001b[0;32mif\u001b[0m \u001b[0mcv2\u001b[0m\u001b[0;34m.\u001b[0m\u001b[0mwaitKey\u001b[0m\u001b[0;34m(\u001b[0m\u001b[0;36m1\u001b[0m\u001b[0;34m)\u001b[0m \u001b[0;34m==\u001b[0m \u001b[0;36m27\u001b[0m\u001b[0;34m:\u001b[0m\u001b[0;34m\u001b[0m\u001b[0m\n\u001b[0m\u001b[1;32m     24\u001b[0m         \u001b[0;32mbreak\u001b[0m\u001b[0;34m\u001b[0m\u001b[0m\n\u001b[1;32m     25\u001b[0m \u001b[0;34m\u001b[0m\u001b[0m\n",
      "\u001b[0;31mKeyboardInterrupt\u001b[0m: "
     ]
    }
   ],
   "source": [
    "import cv2\n",
    "import numpy as np\n",
    "\n",
    "accenture = cv2.imread('../assets/accenture.png')\n",
    "\n",
    "accenture = cv2.resize(accenture, (int(accenture.shape[1] * 0.9), int(accenture.shape[0] * 0.9)))\n",
    "rows, cols, channels = accenture.shape\n",
    "\n",
    "cap = cv2.VideoCapture(0)\n",
    "\n",
    "while True: \n",
    "    _, frame = cap.read()\n",
    "    roi = frame[0: rows, 0: cols]\n",
    "    accenture_gray = cv2.cvtColor(accenture, cv2.COLOR_BGR2GRAY)\n",
    "    ret, mask = cv2.threshold(accenture_gray, 220, 255, cv2.THRESH_BINARY_INV)\n",
    "    mask_inv = cv2.bitwise_not(mask)\n",
    "    peps_bg = cv2.bitwise_and(roi, roi, mask=mask_inv)\n",
    "    accenture_rg = cv2.bitwise_and(accenture, accenture, mask=mask)\n",
    "    dst = cv2.add(peps_bg, accenture_rg)\n",
    "    frame[0: rows, 0:cols] = dst\n",
    "    cv2.namedWindow('peps_bigbang', cv2.WINDOW_NORMAL)\n",
    "    cv2.imshow('webcam', frame)\n",
    "    if cv2.waitKey(1) == 27:\n",
    "        break\n",
    "        \n",
    "cap.release()\n",
    "cv2.destroyAllWindows()"
   ]
  },
  {
   "cell_type": "code",
   "execution_count": null,
   "metadata": {},
   "outputs": [],
   "source": [
    "import cv2\n",
    "import numpy as np\n",
    "\n",
    "def apply_invert(frame):\n",
    "    return cv2.bitwise_not(frame)\n",
    "\n",
    "cap = cv2.VideoCapture(0)\n",
    "\n",
    "while True: \n",
    "    _, frame = cap.read()\n",
    "    \n",
    "    invert = apply_invert(frame)\n",
    "    \n",
    "    cv2.imshow('frame', frame)\n",
    "    cv2.imshow('invert', invert)\n",
    "    \n",
    "    k = cv2.waitKey(1)\n",
    "    \n",
    "    if k == ord('q') or k == 27:\n",
    "        cap.release()\n",
    "        cv2.destroyAllWindows()\n",
    "        break"
   ]
  },
  {
   "cell_type": "code",
   "execution_count": null,
   "metadata": {},
   "outputs": [],
   "source": []
  }
 ],
 "metadata": {
  "kernelspec": {
   "display_name": "Python 3",
   "language": "python",
   "name": "python3"
  },
  "language_info": {
   "codemirror_mode": {
    "name": "ipython",
    "version": 3
   },
   "file_extension": ".py",
   "mimetype": "text/x-python",
   "name": "python",
   "nbconvert_exporter": "python",
   "pygments_lexer": "ipython3",
   "version": "3.6.5"
  }
 },
 "nbformat": 4,
 "nbformat_minor": 2
}
